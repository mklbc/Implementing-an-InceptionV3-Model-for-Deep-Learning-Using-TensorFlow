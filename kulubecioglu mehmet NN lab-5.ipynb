{
 "cells": [
  {
   "cell_type": "code",
   "execution_count": 4,
   "id": "ba525aac",
   "metadata": {},
   "outputs": [
    {
     "name": "stdout",
     "output_type": "stream",
     "text": [
      "WARNING:tensorflow:From C:\\Users\\mehme\\anaconda3\\Lib\\site-packages\\keras\\src\\backend.py:873: The name tf.get_default_graph is deprecated. Please use tf.compat.v1.get_default_graph instead.\n",
      "\n",
      "WARNING:tensorflow:From C:\\Users\\mehme\\anaconda3\\Lib\\site-packages\\keras\\src\\layers\\pooling\\max_pooling2d.py:161: The name tf.nn.max_pool is deprecated. Please use tf.nn.max_pool2d instead.\n",
      "\n",
      "WARNING:tensorflow:From C:\\Users\\mehme\\anaconda3\\Lib\\site-packages\\keras\\src\\engine\\base_layer_utils.py:189: The name tf.placeholder is deprecated. Please use tf.compat.v1.placeholder instead.\n",
      "\n",
      "Model: \"inception_v3_model\"\n",
      "_________________________________________________________________\n",
      " Layer (type)                Output Shape              Param #   \n",
      "=================================================================\n",
      " model (Functional)          (None, 10)                1245706   \n",
      "                                                                 \n",
      "=================================================================\n",
      "Total params: 1245706 (4.75 MB)\n",
      "Trainable params: 1245706 (4.75 MB)\n",
      "Non-trainable params: 0 (0.00 Byte)\n",
      "_________________________________________________________________\n"
     ]
    }
   ],
   "source": [
    "import tensorflow as tf\n",
    "\n",
    "# Define Inception V3 model (modify as needed)\n",
    "class InceptionV3Model(tf.keras.Model):\n",
    "    def __init__(self, num_classes):\n",
    "        super(InceptionV3Model, self).__init__()\n",
    "\n",
    "        # Define Inception modules with varied filter sizes and bottleneck layers\n",
    "        def inception_module(x, num_filters):\n",
    "            branch1 = tf.keras.layers.Conv2D(num_filters // 4, (1, 1), activation='relu')(x)\n",
    "            branch2 = tf.keras.layers.Conv2D(num_filters // 2, (1, 1), activation='relu')(x)\n",
    "            branch2 = tf.keras.layers.Conv2D(num_filters // 2, (3, 3), padding='same', activation='relu')(branch2)\n",
    "            branch3 = tf.keras.layers.Conv2D(num_filters // 4, (1, 1), activation='relu')(x)\n",
    "            branch3 = tf.keras.layers.Conv2D(num_filters // 2, (3, 3), padding='same', activation='relu')(branch3)\n",
    "            branch4 = tf.keras.layers.MaxPooling2D((3, 3), strides=(1, 1), padding='same')(x)\n",
    "            branch4 = tf.keras.layers.Conv2D(num_filters // 2, (1, 1), activation='relu')(branch4)\n",
    "\n",
    "            # Concatenate the branches\n",
    "            return tf.keras.layers.Concatenate(axis=-1)([branch1, branch2, branch3, branch4])\n",
    "\n",
    "        # Example model architecture (modify as needed)\n",
    "        input_layer = tf.keras.layers.Input(shape=(224, 224, 3))\n",
    "        x = input_layer\n",
    "\n",
    "        # Add Inception modules\n",
    "        for _ in range(3):  # Add three Inception modules (adjust as needed)\n",
    "            x = inception_module(x, 256)\n",
    "\n",
    "        # Global average pooling\n",
    "        x = tf.keras.layers.GlobalAveragePooling2D()(x)\n",
    "\n",
    "        # Fully connected layers\n",
    "        x = tf.keras.layers.Dense(512, activation='relu')(x)\n",
    "        x = tf.keras.layers.Dropout(0.5)(x)\n",
    "\n",
    "        # Output layer\n",
    "        output_layer = tf.keras.layers.Dense(num_classes, activation='softmax')(x)\n",
    "\n",
    "        # Create the model\n",
    "        self.model = tf.keras.Model(inputs=input_layer, outputs=output_layer)\n",
    "        # Build the model\n",
    "        self.build((None, 224, 224, 3))\n",
    "\n",
    "    def call(self, inputs, training=None, mask=None):\n",
    "        return self.model(inputs)\n",
    "\n",
    "# Create an instance of the InceptionV3Model class\n",
    "num_classes = 10  # Replace with the actual number of classes\n",
    "inception_model = InceptionV3Model(num_classes)\n",
    "\n",
    "# Display the model summary\n",
    "inception_model.summary()\n"
   ]
  },
  {
   "cell_type": "code",
   "execution_count": null,
   "id": "3e717e1c",
   "metadata": {},
   "outputs": [],
   "source": []
  }
 ],
 "metadata": {
  "kernelspec": {
   "display_name": "Python 3 (ipykernel)",
   "language": "python",
   "name": "python3"
  },
  "language_info": {
   "codemirror_mode": {
    "name": "ipython",
    "version": 3
   },
   "file_extension": ".py",
   "mimetype": "text/x-python",
   "name": "python",
   "nbconvert_exporter": "python",
   "pygments_lexer": "ipython3",
   "version": "3.11.5"
  }
 },
 "nbformat": 4,
 "nbformat_minor": 5
}
